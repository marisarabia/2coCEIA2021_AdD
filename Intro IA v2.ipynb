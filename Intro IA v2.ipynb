{
 "cells": [
  {
   "cell_type": "markdown",
   "metadata": {},
   "source": [
    "# Intro IA - 2coCEIA2021"
   ]
  },
  {
   "cell_type": "code",
   "execution_count": 1,
   "metadata": {},
   "outputs": [],
   "source": [
    "import numpy as np\n",
    "import matplotlib.pyplot as plt"
   ]
  },
  {
   "cell_type": "markdown",
   "metadata": {},
   "source": [
    "## 2. Funciones, visualización y split del dataset:"
   ]
  },
  {
   "cell_type": "code",
   "execution_count": 2,
   "metadata": {},
   "outputs": [],
   "source": [
    "import sys  \n",
    "sys.path.insert(0, r'C:\\Users\\MarianelSarabia\\Dropbox (Personal)\\b_DataSc\\_CEIA_FIUBA\\IA\\ia_examen')\n",
    "#sys.path.insert(0, r'C:\\Users\\MarianelSarabia\\Downloads\\ia')"
   ]
  },
  {
   "cell_type": "code",
   "execution_count": 3,
   "metadata": {},
   "outputs": [],
   "source": [
    "class Data(object):\n",
    "\n",
    "    def __init__(self, path):\n",
    "        self.dataset = self._build_dataset(path)\n",
    "\n",
    "    @staticmethod\n",
    "    def _build_dataset(path):\n",
    "        structure = [('entrada', np.float),\n",
    "                     ('salida', np.float)]\n",
    "        with open(path, encoding=\"utf8\") as data_csv:\n",
    "            data_gen = ((float(line.split(',')[0]), float(line.split(',')[1]))\n",
    "                        for i, line in enumerate(data_csv))\n",
    "            data = np.fromiter(data_gen, structure)\n",
    "        return data\n",
    "\n",
    "    def split(self, percentage):  \n",
    "        X = self.dataset['entrada']\n",
    "        y = self.dataset['salida']\n",
    "        permuted_idxs = np.random.permutation(X.shape[0])\n",
    "        train_idxs = permuted_idxs[0:int(percentage * X.shape[0])]\n",
    "        test_idxs = permuted_idxs[int(percentage * X.shape[0]): X.shape[0]]\n",
    "        X_train = X[train_idxs]\n",
    "        X_test = X[test_idxs]\n",
    "        y_train = y[train_idxs]\n",
    "        y_test = y[test_idxs]\n",
    "        return X_train, X_test, y_train, y_test"
   ]
  },
  {
   "cell_type": "code",
   "execution_count": 4,
   "metadata": {},
   "outputs": [],
   "source": [
    "## levantar los datos\n",
    "dataset = Data(r'clase_8_dataset.csv')"
   ]
  },
  {
   "cell_type": "code",
   "execution_count": 5,
   "metadata": {},
   "outputs": [
    {
     "data": {
      "text/plain": [
       "((400,), (100,), (400,), (100,))"
      ]
     },
     "execution_count": 5,
     "metadata": {},
     "output_type": "execute_result"
    }
   ],
   "source": [
    "#split del dataset\n",
    "X_train, X_test, y_train, y_test = dataset.split(0.8)\n",
    "X_train.shape, X_test.shape, y_train.shape, y_test.shape"
   ]
  },
  {
   "cell_type": "code",
   "execution_count": 6,
   "metadata": {},
   "outputs": [
    {
     "data": {
      "image/png": "[encoded data removed]",
      "text/plain": [
       "<Figure size 432x288 with 1 Axes>"
      ]
     },
     "metadata": {
      "needs_background": "light"
     },
     "output_type": "display_data"
    }
   ],
   "source": [
    "#ploteo del dataset\n",
    "plt.scatter(X_train, y_train+15);\n",
    "plt.scatter(X_test, y_test+15);"
   ]
  },
  {
   "cell_type": "markdown",
   "metadata": {},
   "source": [
    "## 3. Regresión polinómica (lineal en parámetros, con features polinómicas)"
   ]
  },
  {
   "cell_type": "code",
   "execution_count": 7,
   "metadata": {},
   "outputs": [],
   "source": [
    "class BaseModel(object):\n",
    "    def __init__(self):\n",
    "        self.model = None\n",
    "    def fit(self, X, Y):\n",
    "        return NotImplemented\n",
    "    def predict(self, X):\n",
    "        return NotImplemented\n",
    "\n",
    "class ConstantModel(BaseModel):\n",
    "    def fit(self, X, Y):\n",
    "        W = Y.mean()\n",
    "        self.model = W\n",
    "    def predict(self, X):\n",
    "        return np.ones(len(X)) * self.model\n",
    "\n",
    "class LinearRegression(BaseModel):\n",
    "    def fit(self, X, y):\n",
    "        if len(X.shape) == 1:\n",
    "            W = X.T.dot(y) / X.T.dot(X)\n",
    "        else:\n",
    "            W = np.linalg.inv(X.T.dot(X)).dot(X.T).dot(y)\n",
    "        self.model = W\n",
    "    def predict(self, X):\n",
    "        return self.model * X"
   ]
  },
  {
   "cell_type": "code",
   "execution_count": 8,
   "metadata": {},
   "outputs": [],
   "source": [
    "class Metric(object):\n",
    "    def __call__(self, target, prediction):\n",
    "        return NotImplemented\n",
    "\n",
    "class MSE(Metric): # error cuadrático medio, MSE por sus siglas en inglés\n",
    "    def __init__(self):\n",
    "        Metric.__init__(self)\n",
    "    def __call__(self, target, prediction):\n",
    "        n = target.size\n",
    "        return np.sum((target - prediction) ** 2) / n"
   ]
  },
  {
   "cell_type": "code",
   "execution_count": 9,
   "metadata": {},
   "outputs": [
    {
     "data": {
      "text/plain": [
       "((400, 2), (400, 3), (400, 4), (400, 5))"
      ]
     },
     "execution_count": 9,
     "metadata": {},
     "output_type": "execute_result"
    }
   ],
   "source": [
    "X_train1 = np.vstack((X_train, np.ones(len(X_train)))).T\n",
    "X_train2 = np.vstack((X_train, np.power(X_train, 2), np.ones(len(X_train)))).T\n",
    "X_train3 = np.vstack((X_train, np.power(X_train, 2), np.power(X_train, 3), np.ones(len(X_train)))).T\n",
    "X_train4 = np.vstack((X_train, np.power(X_train, 2), np.power(X_train, 3), np.power(X_train, 4), np.ones(len(X_train)))).T\n",
    "\n",
    "X_test1 = np.vstack((X_test, np.ones(len(X_test)))).T\n",
    "X_test2 = np.vstack((X_test, np.power(X_test, 2), np.ones(len(X_test)))).T\n",
    "X_test3 = np.vstack((X_test, np.power(X_test, 2), np.power(X_test, 3), np.ones(len(X_test)))).T\n",
    "X_test4 = np.vstack((X_test, np.power(X_test, 2), np.power(X_test, 3), np.power(X_test, 4), np.ones(len(X_test)))).T\n",
    "\n",
    "X_train1.shape, X_train2.shape, X_train3.shape, X_train4.shape"
   ]
  },
  {
   "cell_type": "markdown",
   "metadata": {},
   "source": [
    "### 3.i. Modelos generales (previa a implementación de k-folds) "
   ]
  },
  {
   "cell_type": "code",
   "execution_count": 10,
   "metadata": {},
   "outputs": [],
   "source": [
    "# instancio las clases\n",
    "linear_regression = LinearRegression()\n",
    "mse = MSE()"
   ]
  },
  {
   "cell_type": "markdown",
   "metadata": {},
   "source": [
    "A continuación se presentan los modelos, se usará una regresión lineal con features polinómicas, incrementando el grado (n) hasta 3"
   ]
  },
  {
   "cell_type": "code",
   "execution_count": 11,
   "metadata": {},
   "outputs": [],
   "source": [
    "linear_regression.fit(X_train, y_train)\n",
    "lr_y_hat = linear_regression.predict(X_test)\n",
    "lr_mse = mse(y_test, lr_y_hat)"
   ]
  },
  {
   "cell_type": "code",
   "execution_count": 12,
   "metadata": {},
   "outputs": [
    {
     "name": "stdout",
     "output_type": "stream",
     "text": [
      "modelo lineal sin intercepto:\n",
      "b1_hat: -0.09067571039916722\n",
      "MSE: 3588.79779750014\n"
     ]
    }
   ],
   "source": [
    "# modelo con intercepto (ordenada al origen, b0_hat = 0)\n",
    "print('modelo lineal sin intercepto:')\n",
    "print('b1_hat:', linear_regression.model)\n",
    "print('MSE:', lr_mse)"
   ]
  },
  {
   "cell_type": "code",
   "execution_count": 13,
   "metadata": {},
   "outputs": [
    {
     "data": {
      "image/png": "[encoded data removed]",
      "text/plain": [
       "<Figure size 432x288 with 1 Axes>"
      ]
     },
     "metadata": {
      "needs_background": "light"
     },
     "output_type": "display_data"
    }
   ],
   "source": [
    "plt.scatter(X_test, y_test +15 );\n",
    "plt.plot(X_test, lr_y_hat, 'r');"
   ]
  },
  {
   "cell_type": "code",
   "execution_count": 14,
   "metadata": {},
   "outputs": [],
   "source": [
    "linear_regression.fit(X_train1, y_train.reshape(-1,1))\n",
    "lr1_y_hat = X_test1 @ linear_regression.model\n",
    "lr1_mse = mse(y_test, lr1_y_hat)"
   ]
  },
  {
   "cell_type": "code",
   "execution_count": 15,
   "metadata": {},
   "outputs": [
    {
     "name": "stdout",
     "output_type": "stream",
     "text": [
      "modelo lineal con intercepto, n=1:\n",
      "\n",
      "b0_hat: [48.93217813] +\n",
      " xn1_i * b1_hat: [-0.08451802] \n",
      "\n",
      "MSE: 172689.21537870367 \n",
      "\n",
      "y_test_avg: 50.45425627080404 std: 36.144015066103414 \n",
      "y_est_n1_avg: 48.35442333531615 std: 20.39835852051255\n"
     ]
    }
   ],
   "source": [
    "# modelo con intercepto (ordenada al origen, b0_hat != 0)\n",
    "print('modelo lineal con intercepto, n=1:\\n')\n",
    "print('b0_hat:', linear_regression.model[-1], '+\\n xn1_i * b1_hat:', linear_regression.model[0], '\\n')\n",
    "print('MSE:', lr1_mse, '\\n')\n",
    "print('y_test_avg:', y_test.mean(), 'std:', y_test.std(),\n",
    "      '\\ny_est_n1_avg:', lr1_y_hat.mean(), 'std:', lr1_y_hat.std())"
   ]
  },
  {
   "cell_type": "code",
   "execution_count": 16,
   "metadata": {},
   "outputs": [
    {
     "data": {
      "image/png": "[encoded data removed]",
      "text/plain": [
       "<Figure size 432x288 with 1 Axes>"
      ]
     },
     "metadata": {
      "needs_background": "light"
     },
     "output_type": "display_data"
    }
   ],
   "source": [
    "plt.scatter(X_test, y_test +15 );\n",
    "plt.plot(X_test, lr1_y_hat, 'r');"
   ]
  },
  {
   "cell_type": "code",
   "execution_count": 17,
   "metadata": {},
   "outputs": [],
   "source": [
    "linear_regression.fit(X_train2, y_train.reshape(-1,1))\n",
    "lr2_y_hat = X_test2 @ linear_regression.model\n",
    "lr2_mse = mse(y_test, lr2_y_hat)"
   ]
  },
  {
   "cell_type": "code",
   "execution_count": 18,
   "metadata": {},
   "outputs": [
    {
     "name": "stdout",
     "output_type": "stream",
     "text": [
      "modelo lineal con intercepto, n=2:\n",
      "\n",
      "b0_hat: [17.12159989] +\n",
      " xn1_i * b1_hat: [-0.09113089] +\n",
      " xn2_i * b2_hat: [0.00060089] \n",
      "\n",
      "MSE: 241235.01102681388 \n",
      "\n",
      "y_test_avg: 50.45425627080404 std: 36.144015066103414 \n",
      "y_est_n2_avg: 51.528114118750366 std: 33.23863887844737\n"
     ]
    }
   ],
   "source": [
    "# modelo con intercepto, feature polinómina de grado n=2\n",
    "print('modelo lineal con intercepto, n=2:\\n')\n",
    "print('b0_hat:', linear_regression.model[-1], '+\\n xn1_i * b1_hat:', linear_regression.model[0],\n",
    "      '+\\n xn2_i * b2_hat:', linear_regression.model[1], '\\n')\n",
    "print('MSE:', lr2_mse, '\\n')\n",
    "print('y_test_avg:', y_test.mean(), 'std:', y_test.std(),\n",
    "      '\\ny_est_n2_avg:', lr2_y_hat.mean(), 'std:', lr2_y_hat.std())"
   ]
  },
  {
   "cell_type": "code",
   "execution_count": 19,
   "metadata": {},
   "outputs": [
    {
     "data": {
      "image/png": "[encoded data removed]",
      "text/plain": [
       "<Figure size 432x288 with 1 Axes>"
      ]
     },
     "metadata": {
      "needs_background": "light"
     },
     "output_type": "display_data"
    }
   ],
   "source": [
    "plt.scatter(X_test, y_test +15 );\n",
    "plt.plot(X_test[np.argsort(X_test)], lr2_y_hat[np.argsort(X_test)] +15, c='r');"
   ]
  },
  {
   "cell_type": "code",
   "execution_count": 20,
   "metadata": {},
   "outputs": [],
   "source": [
    "linear_regression.fit(X_train3, y_train.reshape(-1,1))\n",
    "lr3_y_hat = X_test3 @ linear_regression.model\n",
    "lr3_mse = mse(y_test, lr3_y_hat)"
   ]
  },
  {
   "cell_type": "code",
   "execution_count": 21,
   "metadata": {},
   "outputs": [
    {
     "name": "stdout",
     "output_type": "stream",
     "text": [
      "modelo lineal con intercepto, n=3:\n",
      "\n",
      "b0_hat: [18.00509133] +\n",
      " xn1_i * b1_hat: [0.00148404] +\n",
      " xn2_i * b2_hat: [0.00060022] +\n",
      " xn3_i * b3_hat: [-1.01150143e-06] \n",
      "\n",
      "MSE: 257062.1026219696 \n",
      "\n",
      "y_test_avg: 50.45425627080404 std: 36.144015066103414 \n",
      "y_est_n3_avg: 50.12071719623102 std: 35.55446459738522\n"
     ]
    }
   ],
   "source": [
    "# modelo con intercepto, feature polinómina de grado n=3\n",
    "print('modelo lineal con intercepto, n=3:\\n')\n",
    "print('b0_hat:', linear_regression.model[-1], '+\\n xn1_i * b1_hat:', linear_regression.model[0],\n",
    "      '+\\n xn2_i * b2_hat:', linear_regression.model[1], '+\\n xn3_i * b3_hat:', linear_regression.model[2], '\\n')\n",
    "print('MSE:', lr3_mse, '\\n')\n",
    "print('y_test_avg:', y_test.mean(), 'std:', y_test.std(),\n",
    "      '\\ny_est_n3_avg:', lr3_y_hat.mean(), 'std:', lr3_y_hat.std())"
   ]
  },
  {
   "cell_type": "code",
   "execution_count": 22,
   "metadata": {},
   "outputs": [
    {
     "data": {
      "image/png": "[encoded data removed]",
      "text/plain": [
       "<Figure size 432x288 with 1 Axes>"
      ]
     },
     "metadata": {
      "needs_background": "light"
     },
     "output_type": "display_data"
    }
   ],
   "source": [
    "plt.scatter(X_test, y_test +15 );\n",
    "plt.plot(X_test[np.argsort(X_test)], lr3_y_hat[np.argsort(X_test)] +15, c='r');"
   ]
  },
  {
   "cell_type": "code",
   "execution_count": 23,
   "metadata": {},
   "outputs": [],
   "source": [
    "linear_regression.fit(X_train4, y_train.reshape(-1,1))\n",
    "lr4_y_hat = X_test4 @ linear_regression.model\n",
    "lr4_mse = mse(y_test, lr4_y_hat)"
   ]
  },
  {
   "cell_type": "code",
   "execution_count": 24,
   "metadata": {},
   "outputs": [
    {
     "name": "stdout",
     "output_type": "stream",
     "text": [
      "modelo lineal con intercepto, n=4:\n",
      "\n",
      "b0_hat: [17.83252397] +\n",
      " xn1_i * b1_hat: [0.00158835] +\n",
      " xn2_i * b2_hat: [0.0006108] +\n",
      " xn3_i * b3_hat: [-1.01232496e-06] +\n",
      " xn4_i * b4_hat: [-7.9820712e-11] \n",
      "\n",
      "MSE: 256915.41141333533 \n",
      "\n",
      "y_test_avg: 50.45425627080404 std: 36.144015066103414 \n",
      "y_est_n4_avg: 50.095338446702 std: 35.53358224314268\n"
     ]
    }
   ],
   "source": [
    "# modelo con intercepto, feature polinómina de grado n=4\n",
    "print('modelo lineal con intercepto, n=4:\\n')\n",
    "print('b0_hat:', linear_regression.model[-1], '+\\n xn1_i * b1_hat:', linear_regression.model[0],\n",
    "      '+\\n xn2_i * b2_hat:', linear_regression.model[1], '+\\n xn3_i * b3_hat:', linear_regression.model[2], \n",
    "      '+\\n xn4_i * b4_hat:', linear_regression.model[3], '\\n')\n",
    "print('MSE:', lr4_mse, '\\n')\n",
    "print('y_test_avg:', y_test.mean(), 'std:', y_test.std(),\n",
    "      '\\ny_est_n4_avg:', lr4_y_hat.mean(), 'std:', lr4_y_hat.std())"
   ]
  },
  {
   "cell_type": "code",
   "execution_count": 25,
   "metadata": {},
   "outputs": [
    {
     "data": {
      "image/png": "[encoded data removed]",
      "text/plain": [
       "<Figure size 432x288 with 1 Axes>"
      ]
     },
     "metadata": {
      "needs_background": "light"
     },
     "output_type": "display_data"
    }
   ],
   "source": [
    "plt.scatter(X_test, y_test +15 );\n",
    "plt.plot(X_test[np.argsort(X_test)], lr4_y_hat[np.argsort(X_test)] +15, c='r');"
   ]
  },
  {
   "cell_type": "code",
   "execution_count": 26,
   "metadata": {},
   "outputs": [
    {
     "name": "stdout",
     "output_type": "stream",
     "text": [
      "-345.5118586102055 [-345.5119, 1.0] [78.13415503]\n",
      "-345.5118586102055 [-345.5119, 119378.4444, 1.0] [120.34147281]\n",
      "-345.5118586102055 [-345.5119, 119378.4444, -41246668.2166, 1.0] [130.86721304]\n",
      "-345.5118586102055 [-345.5119, 119378.4444, -41246668.2166, 14251212996.9807, 1.0] [130.81811071] 134.5084802748143\n"
     ]
    }
   ],
   "source": [
    "# comparación de resultados para un observación\n",
    "print(X_test[1], [round(i,4) for i in X_test1[1,:]], lr1_y_hat[1])\n",
    "print(X_test[1], [round(i,4) for i in X_test2[1,:]], lr2_y_hat[1])\n",
    "print(X_test[1], [round(i,4) for i in X_test3[1,:]], lr3_y_hat[1])\n",
    "print(X_test[1], [round(i,4) for i in X_test4[1,:]], lr4_y_hat[1], y_test[1])"
   ]
  },
  {
   "cell_type": "code",
   "execution_count": 27,
   "metadata": {},
   "outputs": [],
   "source": [
    "# conjuntos de datos y resultados generales\n",
    "train = [X_train, X_train1, X_train2, X_train3, X_train4]\n",
    "test = [X_test, X_test1, X_test2, X_test3, X_test4]\n",
    "y_hat = [lr_y_hat, lr1_y_hat, lr2_y_hat, lr3_y_hat, lr4_y_hat]\n",
    "mse_hat = [lr_mse, lr1_mse, lr2_mse, lr3_mse, lr4_mse]"
   ]
  },
  {
   "cell_type": "markdown",
   "metadata": {},
   "source": [
    "### 3.ii. Implementación de k-forlds para la evaluación y selección de modelos"
   ]
  },
  {
   "cell_type": "code",
   "execution_count": 28,
   "metadata": {},
   "outputs": [],
   "source": [
    "def k_folds(X_train, y_train, X_test, y_test, k=5):\n",
    "    linear_regression = LinearRegression()\n",
    "    mse = MSE()\n",
    "\n",
    "    chunk_size = int(len(X_train) / k)\n",
    "    model_list = []\n",
    "    mse_validation = []\n",
    "    mse_test = []\n",
    "\n",
    "    for i in range(0, len(X_train), chunk_size):\n",
    "        end = i + chunk_size if i + chunk_size <= len(X_train) else len(X_train)\n",
    "        new_X_valid = X_train[i: end]\n",
    "        new_y_valid = y_train[i: end]\n",
    "        new_X_train = np.concatenate([X_train[: i], X_train[end:]])\n",
    "        new_y_train = np.concatenate([y_train[: i], y_train[end:]])\n",
    "\n",
    "        linear_regression.fit(new_X_train, new_y_train)\n",
    "        model_list.append(linear_regression.model)\n",
    "        \n",
    "        lr_y_hat_validation = new_X_valid @ linear_regression.model\n",
    "        mse_validation.append(mse(new_y_valid, lr_y_hat_validation))\n",
    "\n",
    "        lr_y_hat = X_test @ linear_regression.model\n",
    "        mse_test.append(mse(y_test, lr_y_hat))\n",
    "\n",
    "    # El criterio de decisión para elegir el mejor modelo se basa en el error cuadrático medio (MSE):\n",
    "    # El mejor modelo es el que menor MSE arroja en el testeo de las estimaciones.\n",
    "    \n",
    "    # También puede haber instancias de validación que arrojan un MSE previas al testeo \n",
    "    # (por ej. cuando se implementa k-folds, cross validation y/o grid search)\n",
    "    \n",
    "    # En este caso, se puede usar el MSE promedio para \n",
    "    # Si elegimos como mejor modelo con menor MSE en la validación,\n",
    "    # al corroborar el modelo con el set de test, el ranking de MSEs puede diferir sutilmente, \n",
    "    # dado que se pueden generar ajustes asociados al trade-off sesgo-varianza y, por lo tanto, al overfitting.\n",
    "    # En este caso, una aproximación general para comparar estructura de los modelos \n",
    "    # (por ej, grado del polinomio a priorizar) más que los parámetros estimados en sí, \n",
    "    # se puede utilizar el promedio de los MSE de validación y/o de los MSE de testeo de cada modelo de grado n \n",
    "    # a fin de contemplar una medida más robusta de variabilidad.\n",
    "    \n",
    "    print('Habiendo registrado el menor MSE en el testeo,', np.min(mse_test), \n",
    "          '\\nel mejor modelo es el de la ', 1 + np.argsort(mse_test)[0], '° partición' \n",
    "          '\\ncon parámetros lineales estimados según bi (i=1,... n) y b0:', model_list[np.argsort(mse_test)[0]], \n",
    "          '\\npara features polínómicas xi de grado n=', linear_regression.model.shape[0] - 1, '\\n' )\n",
    "    \n",
    "    return model_list, mse_validation, mse_test"
   ]
  },
  {
   "cell_type": "code",
   "execution_count": 29,
   "metadata": {},
   "outputs": [
    {
     "name": "stdout",
     "output_type": "stream",
     "text": [
      "Habiendo registrado el menor MSE en el testeo, 972.810680852388 \n",
      "el mejor modelo es el de la  1 ° partición\n",
      "con parámetros lineales estimados según bi (i=1,... n) y b0: [-0.07969824 48.9858178 ] \n",
      "para features polínómicas xi de grado n= 1 \n",
      "\n",
      "Habiendo registrado el menor MSE en el testeo, 122.00227066565222 \n",
      "el mejor modelo es el de la  2 ° partición\n",
      "con parámetros lineales estimados según bi (i=1,... n) y b0: [-9.25642893e-02  5.94126298e-04  1.78137550e+01] \n",
      "para features polínómicas xi de grado n= 2 \n",
      "\n",
      "Habiendo registrado el menor MSE en el testeo, 9.015015047020286 \n",
      "el mejor modelo es el de la  2 ° partición\n",
      "con parámetros lineales estimados según bi (i=1,... n) y b0: [ 6.28678501e-04  6.00059782e-04 -1.00906249e-06  1.81437026e+01] \n",
      "para features polínómicas xi de grado n= 3 \n",
      "\n",
      "Habiendo registrado el menor MSE en el testeo, 9.061575715354842 \n",
      "el mejor modelo es el de la  2 ° partición\n",
      "con parámetros lineales estimados según bi (i=1,... n) y b0: [ 6.74221432e-04  6.05774810e-04 -1.00934699e-06 -4.28528959e-11\n",
      "  1.80503141e+01] \n",
      "para features polínómicas xi de grado n= 4 \n",
      "\n"
     ]
    }
   ],
   "source": [
    "# n=1 sin intercepto\n",
    "#model_list, mse_validation, mse_test = k_folds(X_train, y_train, X_test, y_test, k=5)\n",
    "\n",
    "# n=1\n",
    "model_list1, mse_validation1, mse_test1 = k_folds(X_train1, y_train, X_test1, y_test, k=5)\n",
    "# n=2\n",
    "model_list2, mse_validation2, mse_test2 = k_folds(X_train2, y_train, X_test2, y_test, k=5)\n",
    "# n=3\n",
    "model_list3, mse_validation3, mse_test3 = k_folds(X_train3, y_train, X_test3, y_test, k=5)\n",
    "# n=4\n",
    "model_list4, mse_validation4, mse_test4 = k_folds(X_train4, y_train, X_test4, y_test, k=5)"
   ]
  },
  {
   "cell_type": "code",
   "execution_count": 30,
   "metadata": {},
   "outputs": [
    {
     "name": "stdout",
     "output_type": "stream",
     "text": [
      "Con el menor MSE promedio resultante de la validación: 9.875106112503268 \n",
      "el mejor tipo de modelo es el de grado n=  3\n",
      "Con el menor MSE promedio resultante del testeo: 9.205531419324604 \n",
      "el mejor tipo de modelo es el de grado n=  3\n"
     ]
    }
   ],
   "source": [
    "# mejor tipo de modelo\n",
    "MSE_val = np.vstack((mse_validation1, mse_validation2, mse_validation3, mse_validation4)).T.mean(0)\n",
    "MSE_test = np.vstack((mse_test1, mse_test2, mse_test3, mse_test4)).T.mean(0)\n",
    "\n",
    "print('Con el menor MSE promedio resultante de la validación:', np.min(MSE_val), \n",
    "      '\\nel mejor tipo de modelo es el de grado n= ', 1 + np.argsort(MSE_val)[0])\n",
    "\n",
    "print('Con el menor MSE promedio resultante del testeo:', np.min(MSE_test), \n",
    "      '\\nel mejor tipo de modelo es el de grado n= ', 1 + np.argsort(MSE_test)[0])"
   ]
  },
  {
   "cell_type": "code",
   "execution_count": 31,
   "metadata": {},
   "outputs": [
    {
     "data": {
      "image/png": "[encoded data removed]",
      "text/plain": [
       "<Figure size 432x288 with 1 Axes>"
      ]
     },
     "metadata": {
      "needs_background": "light"
     },
     "output_type": "display_data"
    }
   ],
   "source": [
    "# mejor modelo => con features polinómicas de grado n=3\n",
    "# mejor modelo dentro de esa clase, 4° partición (index: 4-1 = 3)\n",
    "\n",
    "y_hat3 = X_test3 @ model_list3[3]\n",
    "plt.scatter(X_test, y_test +15 );\n",
    "plt.plot(X_test[np.argsort(X_test)], y_hat3[np.argsort(X_test)] +15, c='r');"
   ]
  },
  {
   "cell_type": "code",
   "execution_count": null,
   "metadata": {},
   "outputs": [],
   "source": []
  }
 ],
 "metadata": {
  "kernelspec": {
   "display_name": "Python 3",
   "language": "python",
   "name": "python3"
  },
  "language_info": {
   "codemirror_mode": {
    "name": "ipython",
    "version": 3
   },
   "file_extension": ".py",
   "mimetype": "text/x-python",
   "name": "python",
   "nbconvert_exporter": "python",
   "pygments_lexer": "ipython3",
   "version": "3.7.1"
  }
 },
 "nbformat": 4,
 "nbformat_minor": 4
}
